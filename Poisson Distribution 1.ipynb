{
 "cells": [
  {
   "cell_type": "code",
   "execution_count": 6,
   "metadata": {},
   "outputs": [
    {
     "name": "stdout",
     "output_type": "stream",
     "text": [
      "2.5\n",
      "0.067\n"
     ]
    }
   ],
   "source": [
    "#A random variable, , follows Poisson distribution with mean of . Find the probability with which the random variable  is equal to .\n",
    "#from math import factorial as f\n",
    "n=float(input())\n",
    "k=5\n",
    "e=2.71828\n",
    "def fac(r):\n",
    "    return(f(k))\n",
    "print(round(((n**k) * (2.71828**(-n)))/fac(k),3))"
   ]
  }
 ],
 "metadata": {
  "kernelspec": {
   "display_name": "Python 3",
   "language": "python",
   "name": "python3"
  },
  "language_info": {
   "codemirror_mode": {
    "name": "ipython",
    "version": 3
   },
   "file_extension": ".py",
   "mimetype": "text/x-python",
   "name": "python",
   "nbconvert_exporter": "python",
   "pygments_lexer": "ipython3",
   "version": "3.6.5"
  }
 },
 "nbformat": 4,
 "nbformat_minor": 2
}
