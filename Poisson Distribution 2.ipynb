{
 "cells": [
  {
   "cell_type": "code",
   "execution_count": null,
   "metadata": {},
   "outputs": [],
   "source": [
    "#The manager of a industrial plant is planning to buy a machine of either type A or type B. For each day’s operation:\n",
    "\n",
    "#The number of repairs,X , that machine A needs is a Poisson random variable with mean 0.88. The daily cost of operating A is CA=160 + 40\u0003X2 .\n",
    "#The number of repairs,Y , that machine B needs is a Poisson random variable with mean 1.55. The daily cost of operating B is CB=128 + 40\u0003Y2.\n",
    "#Assume that the repairs take a negligible amount of time and the machines are maintained nightly to ensure that they operate like new at the start of each day. Find and print the expected daily cost for each machine."
   ]
  },
  {
   "cell_type": "code",
   "execution_count": 4,
   "metadata": {},
   "outputs": [
    {
     "name": "stdout",
     "output_type": "stream",
     "text": [
      "0.88 1.55\n",
      "226.176\n",
      "286.1\n"
     ]
    }
   ],
   "source": [
    "a, b = map(float, input().split())\n",
    "print(round(160 + (40 * (a + (a**2))),3))\n",
    "print(round(128 + (40 * (b + (b**2))),3))"
   ]
  },
  {
   "cell_type": "code",
   "execution_count": null,
   "metadata": {},
   "outputs": [],
   "source": []
  }
 ],
 "metadata": {
  "kernelspec": {
   "display_name": "Python 3",
   "language": "python",
   "name": "python3"
  },
  "language_info": {
   "codemirror_mode": {
    "name": "ipython",
    "version": 3
   },
   "file_extension": ".py",
   "mimetype": "text/x-python",
   "name": "python",
   "nbconvert_exporter": "python",
   "pygments_lexer": "ipython3",
   "version": "3.6.5"
  }
 },
 "nbformat": 4,
 "nbformat_minor": 2
}
